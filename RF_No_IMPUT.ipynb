{
 "cells": [
  {
   "cell_type": "markdown",
   "id": "worse-suffering",
   "metadata": {},
   "source": [
    "# Classification without missing labels\n",
    "## Import full data"
   ]
  },
  {
   "cell_type": "code",
   "execution_count": 1,
   "id": "statutory-forty",
   "metadata": {},
   "outputs": [],
   "source": [
    "import numpy as np\n",
    "import pandas as pd\n",
    "import json \n",
    "import imblearn"
   ]
  },
  {
   "cell_type": "code",
   "execution_count": 2,
   "id": "outer-cowboy",
   "metadata": {},
   "outputs": [],
   "source": [
    "from sklearn.manifold import Isomap, TSNE, MDS, LocallyLinearEmbedding\n",
    "from sklearn.preprocessing import LabelEncoder\n",
    "from sklearn.experimental import enable_iterative_imputer\n",
    "from sklearn.impute import IterativeImputer\n",
    "from sklearn.ensemble import RandomForestRegressor, RandomForestClassifier\n",
    "from sklearn.decomposition import PCA\n",
    "from sklearn.preprocessing import StandardScaler\n",
    "from sklearn.neighbors import KNeighborsClassifier\n",
    "from sklearn.datasets import make_blobs\n",
    "from sklearn.ensemble import RandomForestClassifier\n",
    "from sklearn.ensemble import ExtraTreesClassifier\n",
    "from sklearn.tree import DecisionTreeClassifier\n",
    "from sklearn.cluster import KMeans\n",
    "\n",
    "from sklearn.pipeline import Pipeline\n",
    "from sklearn.model_selection import StratifiedKFold, train_test_split\n",
    "from sklearn.metrics import confusion_matrix, classification_report"
   ]
  },
  {
   "cell_type": "code",
   "execution_count": 10,
   "id": "roman-freeze",
   "metadata": {},
   "outputs": [
    {
     "name": "stdout",
     "output_type": "stream",
     "text": [
      "<class 'pandas.core.frame.DataFrame'>\n",
      "Int64Index: 232748 entries, 0 to 284530\n",
      "Data columns (total 16 columns):\n",
      " #   Column          Non-Null Count   Dtype \n",
      "---  ------          --------------   ----- \n",
      " 0   index           232748 non-null  int64 \n",
      " 1   reviewerID      232748 non-null  object\n",
      " 2   asin            232748 non-null  object\n",
      " 3   reviewerName    230910 non-null  object\n",
      " 4   helpful         232748 non-null  object\n",
      " 5   reviewText      232748 non-null  object\n",
      " 6   overall         232748 non-null  int64 \n",
      " 7   summary         232748 non-null  object\n",
      " 8   unixReviewTime  232748 non-null  int64 \n",
      " 9   reviewTime      232748 non-null  object\n",
      " 10  features        232748 non-null  object\n",
      " 11  amazonCategory  232748 non-null  object\n",
      " 12  class           19918 non-null   object\n",
      " 13  title           106284 non-null  object\n",
      " 14  description     232748 non-null  object\n",
      " 15  feature         232748 non-null  object\n",
      "dtypes: int64(3), object(13)\n",
      "memory usage: 30.2+ MB\n"
     ]
    }
   ],
   "source": [
    "All = pd.read_json('data_and_meta.json')\n",
    "All.info()"
   ]
  },
  {
   "cell_type": "code",
   "execution_count": 11,
   "id": "nearby-hydrogen",
   "metadata": {},
   "outputs": [],
   "source": [
    "All.dropna(inplace=True)"
   ]
  },
  {
   "cell_type": "code",
   "execution_count": 12,
   "id": "fossil-delight",
   "metadata": {},
   "outputs": [],
   "source": [
    "from sklearn import preprocessing\n",
    "#categorical = ['class']\n",
    "#le = preprocessing.LabelEncoder()\n",
    "#All[categorical] = All[categorical].apply(lambda series: pd.Series(\n",
    "#    le.fit_transform(series[series.notnull()]),\n",
    "#    index=series[series.notnull()].index\n",
    "#))"
   ]
  },
  {
   "cell_type": "code",
   "execution_count": 14,
   "id": "motivated-pipeline",
   "metadata": {},
   "outputs": [],
   "source": [
    "categorical = ['class']  \n",
    "le = preprocessing.LabelEncoder()\n",
    "All['target'] = le.fit_transform(All['class']) "
   ]
  },
  {
   "cell_type": "code",
   "execution_count": 18,
   "id": "short-arrest",
   "metadata": {},
   "outputs": [
    {
     "data": {
      "text/plain": [
       "target\n",
       "1    7991\n",
       "2    9500\n",
       "dtype: int64"
      ]
     },
     "execution_count": 18,
     "metadata": {},
     "output_type": "execute_result"
    }
   ],
   "source": [
    "All.drop(All.loc[All['target']==0].index, inplace=True)\n",
    "All.groupby('target').size()"
   ]
  },
  {
   "cell_type": "code",
   "execution_count": 20,
   "id": "fitted-experience",
   "metadata": {},
   "outputs": [],
   "source": [
    "from sklearn.feature_extraction.text import CountVectorizer, TfidfTransformer\n",
    "from sklearn.preprocessing import StandardScaler\n",
    "from sklearn.pipeline import Pipeline\n",
    "from sklearn.metrics import confusion_matrix, classification_report"
   ]
  },
  {
   "cell_type": "code",
   "execution_count": 23,
   "id": "sound-comment",
   "metadata": {},
   "outputs": [
    {
     "data": {
      "text/html": [
       "<div>\n",
       "<style scoped>\n",
       "    .dataframe tbody tr th:only-of-type {\n",
       "        vertical-align: middle;\n",
       "    }\n",
       "\n",
       "    .dataframe tbody tr th {\n",
       "        vertical-align: top;\n",
       "    }\n",
       "\n",
       "    .dataframe thead th {\n",
       "        text-align: right;\n",
       "    }\n",
       "</style>\n",
       "<table border=\"1\" class=\"dataframe\">\n",
       "  <thead>\n",
       "    <tr style=\"text-align: right;\">\n",
       "      <th></th>\n",
       "      <th>index</th>\n",
       "      <th>reviewerID</th>\n",
       "      <th>asin</th>\n",
       "      <th>reviewerName</th>\n",
       "      <th>helpful</th>\n",
       "      <th>reviewText</th>\n",
       "      <th>overall</th>\n",
       "      <th>summary</th>\n",
       "      <th>unixReviewTime</th>\n",
       "      <th>reviewTime</th>\n",
       "      <th>features</th>\n",
       "      <th>amazonCategory</th>\n",
       "      <th>class</th>\n",
       "      <th>title</th>\n",
       "      <th>description</th>\n",
       "      <th>feature</th>\n",
       "      <th>target</th>\n",
       "    </tr>\n",
       "  </thead>\n",
       "  <tbody>\n",
       "    <tr>\n",
       "      <th>208899</th>\n",
       "      <td>169986</td>\n",
       "      <td>A1BD4T41QJZBHB</td>\n",
       "      <td>B00001YVG4</td>\n",
       "      <td>E-Man</td>\n",
       "      <td>[2, 2]</td>\n",
       "      <td>Mine was manufactured in March 1996, and accor...</td>\n",
       "      <td>5</td>\n",
       "      <td>Still Humming After All These Years</td>\n",
       "      <td>1252022400</td>\n",
       "      <td>09 4, 2009</td>\n",
       "      <td>[-0.0909284763, 0.1879815474, 0.3447556303, -0...</td>\n",
       "      <td>electronics</td>\n",
       "      <td>1</td>\n",
       "      <td>Sony KV-9PT50 9&amp;quot; Trinitron TV</td>\n",
       "      <td>This compact TV features a 9-inch screen house...</td>\n",
       "      <td>9-inch Trinitron picture tube Dual-mode bracke...</td>\n",
       "      <td>1</td>\n",
       "    </tr>\n",
       "    <tr>\n",
       "      <th>208901</th>\n",
       "      <td>169987</td>\n",
       "      <td>A7Y6AVS576M03</td>\n",
       "      <td>B00001YVG4</td>\n",
       "      <td>gobirds2</td>\n",
       "      <td>[9, 10]</td>\n",
       "      <td>This is one of the finest `nine-inch' TVs from...</td>\n",
       "      <td>5</td>\n",
       "      <td>Precisely Perfect Picture Fidelity</td>\n",
       "      <td>988588800</td>\n",
       "      <td>04 30, 2001</td>\n",
       "      <td>[-0.1457103733, 0.20106421160000001, 0.3179189...</td>\n",
       "      <td>electronics</td>\n",
       "      <td>1</td>\n",
       "      <td>Sony KV-9PT50 9&amp;quot; Trinitron TV</td>\n",
       "      <td>This compact TV features a 9-inch screen house...</td>\n",
       "      <td>9-inch Trinitron picture tube Dual-mode bracke...</td>\n",
       "      <td>1</td>\n",
       "    </tr>\n",
       "  </tbody>\n",
       "</table>\n",
       "</div>"
      ],
      "text/plain": [
       "         index      reviewerID        asin reviewerName  helpful  \\\n",
       "208899  169986  A1BD4T41QJZBHB  B00001YVG4        E-Man   [2, 2]   \n",
       "208901  169987   A7Y6AVS576M03  B00001YVG4     gobirds2  [9, 10]   \n",
       "\n",
       "                                               reviewText  overall  \\\n",
       "208899  Mine was manufactured in March 1996, and accor...        5   \n",
       "208901  This is one of the finest `nine-inch' TVs from...        5   \n",
       "\n",
       "                                    summary  unixReviewTime   reviewTime  \\\n",
       "208899  Still Humming After All These Years      1252022400   09 4, 2009   \n",
       "208901   Precisely Perfect Picture Fidelity       988588800  04 30, 2001   \n",
       "\n",
       "                                                 features amazonCategory  \\\n",
       "208899  [-0.0909284763, 0.1879815474, 0.3447556303, -0...    electronics   \n",
       "208901  [-0.1457103733, 0.20106421160000001, 0.3179189...    electronics   \n",
       "\n",
       "        class                               title  \\\n",
       "208899      1  Sony KV-9PT50 9&quot; Trinitron TV   \n",
       "208901      1  Sony KV-9PT50 9&quot; Trinitron TV   \n",
       "\n",
       "                                              description  \\\n",
       "208899  This compact TV features a 9-inch screen house...   \n",
       "208901  This compact TV features a 9-inch screen house...   \n",
       "\n",
       "                                                  feature  target  \n",
       "208899  9-inch Trinitron picture tube Dual-mode bracke...       1  \n",
       "208901  9-inch Trinitron picture tube Dual-mode bracke...       1  "
      ]
     },
     "execution_count": 23,
     "metadata": {},
     "output_type": "execute_result"
    }
   ],
   "source": [
    "All.head(2)"
   ]
  },
  {
   "cell_type": "markdown",
   "id": "moving-campbell",
   "metadata": {},
   "source": [
    "## Applying TF-IDF:"
   ]
  },
  {
   "cell_type": "code",
   "execution_count": 24,
   "id": "special-mailman",
   "metadata": {},
   "outputs": [
    {
     "name": "stdout",
     "output_type": "stream",
     "text": [
      "              precision    recall  f1-score   support\n",
      "\n",
      "           1       0.90      0.98      0.94      2654\n",
      "           2       0.98      0.90      0.94      3119\n",
      "\n",
      "    accuracy                           0.94      5773\n",
      "   macro avg       0.94      0.94      0.94      5773\n",
      "weighted avg       0.94      0.94      0.94      5773\n",
      "\n",
      "CPU times: user 3.27 s, sys: 39.5 ms, total: 3.31 s\n",
      "Wall time: 1.94 s\n"
     ]
    }
   ],
   "source": [
    "%%time\n",
    "\n",
    "X_ = All['reviewText']\n",
    "y_ = All['target']\n",
    "\n",
    "pipe = Pipeline([('vectorizer', CountVectorizer()),  \n",
    "                 ('tfidf', TfidfTransformer()), \n",
    "                 ('classifier', RandomForestClassifier(n_jobs=5, max_depth=13))])\n",
    "X_train, X_test, y_train, y_test = train_test_split(X_, y_, test_size=0.33, random_state=42)\n",
    "\n",
    "classifier = pipe.fit(X_train, y_train)\n",
    "y_pred = pipe.predict(X_test)\n",
    "\n",
    "print(classification_report(y_test, y_pred))"
   ]
  },
  {
   "cell_type": "code",
   "execution_count": 25,
   "id": "black-catalog",
   "metadata": {},
   "outputs": [
    {
     "data": {
      "text/plain": [
       "array([[2607,   47],\n",
       "       [ 304, 2815]])"
      ]
     },
     "execution_count": 25,
     "metadata": {},
     "output_type": "execute_result"
    }
   ],
   "source": [
    "confusion_matrix(y_test, y_pred)"
   ]
  },
  {
   "cell_type": "code",
   "execution_count": 28,
   "id": "frequent-forth",
   "metadata": {},
   "outputs": [
    {
     "name": "stdout",
     "output_type": "stream",
     "text": [
      "Confusion matrix, without normalization\n",
      "[[2607   47]\n",
      " [ 304 2815]]\n",
      "Normalized confusion matrix\n",
      "[[0.98229088 0.01770912]\n",
      " [0.09746714 0.90253286]]\n"
     ]
    },
    {
     "data": {
      "image/png": "[encoded data removed]",
      "text/plain": [
       "<Figure size 432x288 with 2 Axes>"
      ]
     },
     "metadata": {
      "needs_background": "light"
     },
     "output_type": "display_data"
    },
    {
     "data": {
      "image/png": "[encoded data removed]",
      "text/plain": [
       "<Figure size 432x288 with 2 Axes>"
      ]
     },
     "metadata": {
      "needs_background": "light"
     },
     "output_type": "display_data"
    }
   ],
   "source": [
    "import numpy as np\n",
    "import matplotlib.pyplot as plt\n",
    "from sklearn.metrics import plot_confusion_matrix\n",
    "\n",
    "class_names= ['Q2', 'Q4']\n",
    "titles_options = [(\"Confusion matrix, without normalization\", None),\n",
    "                  (\"Normalized confusion matrix\", 'true')]\n",
    "for title, normalize in titles_options:\n",
    "    disp = plot_confusion_matrix(classifier, X_test, y_test,\n",
    "                                 display_labels=class_names,\n",
    "                                 cmap=plt.cm.Blues,\n",
    "                                 normalize=normalize)\n",
    "    disp.ax_.set_title(title)\n",
    "\n",
    "    print(title)\n",
    "    print(disp.confusion_matrix)\n",
    "\n",
    "plt.show()"
   ]
  },
  {
   "cell_type": "markdown",
   "id": "capable-singer",
   "metadata": {},
   "source": [
    "## Applying Glove features:"
   ]
  },
  {
   "cell_type": "code",
   "execution_count": 39,
   "id": "stainless-mission",
   "metadata": {},
   "outputs": [],
   "source": [
    "from sklearn.ensemble import RandomForestClassifier\n",
    "\n",
    "X_ =  pd.DataFrame(All.features.tolist())\n",
    "y_ = All['target']\n",
    "\n",
    "pipe = Pipeline([\n",
    "    ('scaler', StandardScaler()),\n",
    "    ('classifier', RandomForestClassifier(n_jobs=5, max_depth=13))])\n",
    "\n",
    "X_train, X_test, y_train, y_test = train_test_split(X_, y_, test_size=0.33, random_state=42)\n",
    "\n",
    "\n",
    "classifier = pipe.fit(X_train, y_train)"
   ]
  },
  {
   "cell_type": "code",
   "execution_count": 40,
   "id": "healthy-uganda",
   "metadata": {},
   "outputs": [
    {
     "name": "stdout",
     "output_type": "stream",
     "text": [
      "              precision    recall  f1-score   support\n",
      "\n",
      "           1       0.96      0.99      0.97      2654\n",
      "           2       0.99      0.96      0.98      3119\n",
      "\n",
      "    accuracy                           0.97      5773\n",
      "   macro avg       0.97      0.98      0.97      5773\n",
      "weighted avg       0.98      0.97      0.97      5773\n",
      "\n"
     ]
    }
   ],
   "source": [
    "y_pred = pipe.predict(X_test)\n",
    "print(classification_report(y_test, y_pred))"
   ]
  },
  {
   "cell_type": "code",
   "execution_count": 42,
   "id": "orange-prerequisite",
   "metadata": {},
   "outputs": [
    {
     "name": "stdout",
     "output_type": "stream",
     "text": [
      "Confusion matrix, without normalization\n",
      "[[2624   30]\n",
      " [ 115 3004]]\n",
      "Normalized confusion matrix\n",
      "[[0.98869631 0.01130369]\n",
      " [0.03687079 0.96312921]]\n"
     ]
    },
    {
     "data": {
      "image/png": "[encoded data removed]",
      "text/plain": [
       "<Figure size 432x288 with 2 Axes>"
      ]
     },
     "metadata": {
      "needs_background": "light"
     },
     "output_type": "display_data"
    },
    {
     "data": {
      "image/png": "[encoded data removed]",
      "text/plain": [
       "<Figure size 432x288 with 2 Axes>"
      ]
     },
     "metadata": {
      "needs_background": "light"
     },
     "output_type": "display_data"
    }
   ],
   "source": [
    "import numpy as np\n",
    "import matplotlib.pyplot as plt\n",
    "from sklearn.metrics import plot_confusion_matrix\n",
    "\n",
    "class_names= ['Q2', 'Q4']\n",
    "titles_options = [(\"Confusion matrix, without normalization\", None),\n",
    "                  (\"Normalized confusion matrix\", 'true')]\n",
    "for title, normalize in titles_options:\n",
    "    disp = plot_confusion_matrix(classifier, X_test, y_test,\n",
    "                                 display_labels=class_names,\n",
    "                                 cmap=plt.cm.Blues,\n",
    "                                 normalize=normalize)\n",
    "    disp.ax_.set_title(title)\n",
    "\n",
    "    print(title)\n",
    "    print(disp.confusion_matrix)\n",
    "\n",
    "plt.show()"
   ]
  },
  {
   "cell_type": "code",
   "execution_count": 43,
   "id": "ranging-thanks",
   "metadata": {},
   "outputs": [
    {
     "data": {
      "text/html": [
       "<div>\n",
       "<style scoped>\n",
       "    .dataframe tbody tr th:only-of-type {\n",
       "        vertical-align: middle;\n",
       "    }\n",
       "\n",
       "    .dataframe tbody tr th {\n",
       "        vertical-align: top;\n",
       "    }\n",
       "\n",
       "    .dataframe thead th {\n",
       "        text-align: right;\n",
       "    }\n",
       "</style>\n",
       "<table border=\"1\" class=\"dataframe\">\n",
       "  <thead>\n",
       "    <tr style=\"text-align: right;\">\n",
       "      <th></th>\n",
       "      <th>gini</th>\n",
       "    </tr>\n",
       "  </thead>\n",
       "  <tbody>\n",
       "    <tr>\n",
       "      <th>60</th>\n",
       "      <td>0.086528</td>\n",
       "    </tr>\n",
       "    <tr>\n",
       "      <th>5</th>\n",
       "      <td>0.082685</td>\n",
       "    </tr>\n",
       "    <tr>\n",
       "      <th>19</th>\n",
       "      <td>0.070927</td>\n",
       "    </tr>\n",
       "    <tr>\n",
       "      <th>86</th>\n",
       "      <td>0.068172</td>\n",
       "    </tr>\n",
       "    <tr>\n",
       "      <th>63</th>\n",
       "      <td>0.059113</td>\n",
       "    </tr>\n",
       "    <tr>\n",
       "      <th>...</th>\n",
       "      <td>...</td>\n",
       "    </tr>\n",
       "    <tr>\n",
       "      <th>110</th>\n",
       "      <td>0.000891</td>\n",
       "    </tr>\n",
       "    <tr>\n",
       "      <th>118</th>\n",
       "      <td>0.000702</td>\n",
       "    </tr>\n",
       "    <tr>\n",
       "      <th>116</th>\n",
       "      <td>0.000622</td>\n",
       "    </tr>\n",
       "    <tr>\n",
       "      <th>115</th>\n",
       "      <td>0.000216</td>\n",
       "    </tr>\n",
       "    <tr>\n",
       "      <th>107</th>\n",
       "      <td>0.000121</td>\n",
       "    </tr>\n",
       "  </tbody>\n",
       "</table>\n",
       "<p>119 rows × 1 columns</p>\n",
       "</div>"
      ],
      "text/plain": [
       "         gini\n",
       "60   0.086528\n",
       "5    0.082685\n",
       "19   0.070927\n",
       "86   0.068172\n",
       "63   0.059113\n",
       "..        ...\n",
       "110  0.000891\n",
       "118  0.000702\n",
       "116  0.000622\n",
       "115  0.000216\n",
       "107  0.000121\n",
       "\n",
       "[119 rows x 1 columns]"
      ]
     },
     "execution_count": 43,
     "metadata": {},
     "output_type": "execute_result"
    }
   ],
   "source": [
    "pd.DataFrame(pipe.steps[1][1].feature_importances_).rename(columns={0:'gini'}).sort_values(by='gini', ascending=False)"
   ]
  },
  {
   "cell_type": "code",
   "execution_count": null,
   "id": "pediatric-fourth",
   "metadata": {},
   "outputs": [],
   "source": []
  }
 ],
 "metadata": {
  "kernelspec": {
   "display_name": "Python 3 (ipykernel)",
   "language": "python",
   "name": "python3"
  },
  "language_info": {
   "codemirror_mode": {
    "name": "ipython",
    "version": 3
   },
   "file_extension": ".py",
   "mimetype": "text/x-python",
   "name": "python",
   "nbconvert_exporter": "python",
   "pygments_lexer": "ipython3",
   "version": "3.9.6"
  }
 },
 "nbformat": 4,
 "nbformat_minor": 5
}
